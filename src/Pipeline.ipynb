{
 "cells": [
  {
   "cell_type": "code",
   "execution_count": 1,
   "metadata": {},
   "outputs": [],
   "source": [
    "import pandas as pd\n",
    "import numpy as np \n",
    "import matplotlib.pyplot as plt\n",
    "import nltk                                         #Natural language processing tool-kit\n",
    "\n",
    "from nltk.corpus import stopwords                   #Stopwords corpus\n",
    "from nltk.stem import PorterStemmer                 # Stemmer\n",
    "from nltk.tokenize import sent_tokenize, word_tokenize\n",
    "\n",
    "from sklearn.feature_extraction.text import CountVectorizer          #For Bag of words\n",
    "from sklearn.feature_extraction.text import TfidfVectorizer          #For TF-IDF\n",
    "from sklearn.model_selection import ShuffleSplit\n",
    "from sklearn.metrics import precision_score, recall_score\n",
    "from sklearn.model_selection import train_test_split\n",
    "from gensim.models import Word2Vec  \n",
    "\n",
    "from sklearn.decomposition import LatentDirichletAllocation\n",
    "from sklearn.feature_extraction.text import CountVectorizer\n",
    "\n",
    "import datetime\n",
    "import string\n",
    "import xgboost as xgb\n",
    "import spacy\n",
    "from spacy import displacy\n",
    "\n",
    "from textblob import TextBlob \n",
    "import warnings\n",
    "warnings.filterwarnings('ignore')\n",
    "import pickle\n",
    "import re\n",
    "from datetime import timedelta\n",
    "import pyLDAvis\n",
    "import pyLDAvis.sklearn"
   ]
  },
  {
   "cell_type": "code",
   "execution_count": 1,
   "metadata": {},
   "outputs": [
    {
     "name": "stdout",
     "output_type": "stream",
     "text": [
      "['A.json', 'AAL.json', 'AAP.json', 'AAPL.json', 'ABC.json', 'ABT.json', 'ACN.json', 'ADBE.json', 'ADI.json', 'ADP.json', 'ADS.json', 'ADSK.json', 'AEE.json', 'AES.json', 'AGN.json', 'AIG.json', 'AIV.json', 'AJG.json', 'ALB.json', 'ALK.json', 'ALL.json', 'ALLE.json', 'ALXN.json', 'AMD.json', 'AME.json', 'AMG.json', 'AMGN.json', 'AMZN.json', 'ANSS.json', 'ANTM.json', 'AON.json', 'AOS.json', 'APA.json', 'APH.json', 'ARNC.json', 'ATVI.json', 'AVB.json', 'AVY.json', 'AWK.json', 'AXP.json', 'AZO.json', 'BA.json', 'BAC.json', 'BAX.json', 'BBY.json', 'BDX.json', 'BEN.json', 'BIIB.json', 'BK.json', 'BLK.json', 'BMY.json', 'BSX.json', 'BXP.json', 'C.json', 'CA.json', 'CAH.json', 'CAT.json', 'CBOE.json', 'CCL.json', 'CELG.json', 'CF.json', 'CFG.json', 'CHD.json', 'CHRW.json', 'CHTR.json', 'CI.json', 'CINF.json', 'CL.json', 'CMA.json', 'CME.json', 'CMG.json', 'CMS.json', 'CNC.json', 'COF.json', 'COG.json', 'COL.json', 'COO.json', 'COP.json', 'COST.json', 'COTY.json', 'CPB.json', 'CRM.json', 'CSX.json', 'CTAS.json', 'CTL.json', 'CTSH.json', 'CVS.json', 'CVX.json', 'D.json', 'DD.json', 'DE.json', 'DG.json', 'DGX.json', 'DHI.json', 'DHR.json', 'DIS.json', 'DISH.json', 'DLPH.json', 'DLTR.json', 'DRE.json', 'DRI.json', 'DTE.json', 'DVA.json', 'DVN.json', 'DXC.json', 'EA.json', 'EBAY.json', 'ECL.json', 'EFX.json', 'EIX.json', 'EMN.json', 'EMR.json', 'EOG.json', 'EQR.json', 'EQT.json', 'ES.json', 'ESRX.json', 'ESS.json', 'ETFC.json', 'ETN.json', 'ETR.json', 'EW.json', 'EXC.json', 'EXPE.json', 'EXR.json', 'F.json', 'FAST.json', 'FB.json', 'FBHS.json', 'FDX.json', 'FFIV.json', 'FIS.json', 'FISV.json', 'FITB.json', 'FL.json', 'FLR.json', 'FLS.json', 'FMC.json', 'FRT.json', 'FTV.json', 'GD.json', 'GE.json', 'GIS.json', 'GM.json', 'GOOG.json', 'GPC.json', 'GPN.json', 'GPS.json', 'GRMN.json', 'GS.json', 'GT.json', 'GWW.json', 'HAS.json', 'HBAN.json', 'HBI.json', 'HCA.json', 'HIG.json', 'HLT.json', 'HOG.json', 'HOLX.json', 'HPE.json', 'HRB.json', 'HRL.json', 'HSIC.json', 'HST.json', 'HSY.json', 'HUM.json', 'IBM.json', 'ICE.json', 'IFF.json', 'ILMN.json', 'INCY.json', 'IP.json', 'IPG.json', 'IT.json', 'ITW.json', 'IVZ.json', 'JNJ.json', 'JNPR.json', 'JPM.json', 'JWN.json', 'K.json', 'KHC.json', 'KIM.json', 'KLAC.json', 'KMB.json', 'KMI.json', 'KR.json', 'KSS.json', 'KSU.json', 'L.json', 'LEG.json', 'LH.json', 'LLY.json', 'LMT.json', 'LNC.json', 'LNT.json', 'LRCX.json', 'M.json', 'MA.json', 'MAA.json', 'MAC.json', 'MAR.json', 'MAS.json', 'MCD.json', 'MCHP.json', 'MCK.json', 'MDLZ.json', 'MDT.json', 'MET.json', 'MKC.json', 'MLM.json', 'MMC.json', 'MNST.json', 'MO.json', 'MON.json', 'MOS.json', 'MPC.json', 'MRK.json', 'MS.json', 'MSI.json', 'MTB.json', 'MU.json', 'MYL.json', 'NAVI.json', 'NBL.json', 'NEE.json', 'NFLX.json', 'NI.json', 'NKE.json', 'NLSN.json', 'NRG.json', 'NSC.json', 'NUE.json', 'NVDA.json', 'NWL.json', 'NWSA.json', 'OKE.json', 'OMC.json', 'ORLY.json', 'OXY.json', 'PAYX.json', 'PBCT.json', 'PCAR.json', 'PEP.json', 'PFG.json', 'PG.json', 'PH.json', 'PHM.json', 'PKG.json', 'PKI.json', 'PLD.json', 'PNR.json', 'PNW.json', 'PPG.json', 'PSX.json', 'PVH.json', 'PWR.json', 'PX.json', 'PXD.json', 'QCOM.json', 'QRVO.json', 'REG.json', 'REGN.json', 'RF.json', 'RHI.json', 'RL.json', 'RMD.json', 'ROK.json', 'ROST.json', 'RRC.json', 'RSG.json', 'RTN.json', 'SCG.json', 'SEE.json', 'SHW.json', 'SLB.json', 'SNA.json', 'SNI.json', 'SO.json', 'SPG.json', 'SPGI.json', 'SRE.json', 'STI.json', 'STT.json', 'SYF.json', 'SYK.json', 'SYY.json', 'T.json', 'TAP.json', 'TD.json', 'TDG.json', 'TEL.json', 'TRIP.json', 'TSCO.json', 'TSN.json', 'TWX.json', 'TXN.json', 'UAL.json', 'UNH.json', 'UNM.json', 'UPS.json', 'URI.json', 'USB.json', 'V.json', 'VAR.json', 'VFC.json', 'VIAB.json', 'VLO.json', 'VMC.json', 'VRSK.json', 'VRSN.json', 'VRTX.json', 'VTR.json', 'VZ.json', 'WDC.json', 'WEC.json', 'WFC.json', 'WLTW.json', 'WMT.json', 'WRK.json', 'WU.json', 'WY.json', 'WYNN.json', 'XRX.json', 'XYL.json', 'ZION.json', 'ZTS.json']\n"
     ]
    }
   ],
   "source": [
    "import os, json\n",
    "import pandas as pd\n",
    "from datetime import datetime\n",
    "\n",
    "path_to_json = './test_file'\n",
    "json_files = [pos_json for pos_json in os.listdir(path_to_json) if pos_json.endswith('.json')]\n",
    "print(json_files)  # for me this prints ['foo.json']\n",
    "\n",
    "\n",
    "call_df = pd.DataFrame()\n",
    "calls_list = []\n",
    "# we need both the json and an index number so use enumerate()\n",
    "for index, js in enumerate(json_files):\n",
    "    ticker = js.strip('.json')\n",
    "    with open(os.path.join(path_to_json, js)) as json_file:\n",
    "        json_text = json.load(json_file)\n",
    "        for call_id in json_text['title'].keys():\n",
    "            call_body = ' | '.join(map(str, json_text['body'][call_id]))\n",
    "            call_date = datetime.fromtimestamp(\n",
    "                    json_text['date'][call_id]/1000).strftime(\n",
    "                            \"%A, %B %d, %Y %I:%M:%S\")\n",
    "            calls_list.append([ticker, call_id, \n",
    "                                           json_text['title'][call_id], \n",
    "                                           call_date,\n",
    "                                           call_body])\n",
    "\n",
    "blob = pd.DataFrame(calls_list, \n",
    "                    columns=['ticker', 'call_id', 'title', 'date', 'body'])"
   ]
  },
  {
   "cell_type": "code",
   "execution_count": 3,
   "metadata": {},
   "outputs": [],
   "source": [
    "blob.to_csv(\"blob1.csv\")"
   ]
  },
  {
   "cell_type": "code",
   "execution_count": 4,
   "metadata": {},
   "outputs": [],
   "source": [
    "bb = blob[\"call_id\"]"
   ]
  },
  {
   "cell_type": "code",
   "execution_count": 5,
   "metadata": {},
   "outputs": [
    {
     "name": "stderr",
     "output_type": "stream",
     "text": [
      "C:\\ProgramData\\Anaconda3\\lib\\site-packages\\ipykernel_launcher.py:1: FutureWarning: The signature of `Series.to_csv` was aligned to that of `DataFrame.to_csv`, and argument 'header' will change its default value from False to True: please pass an explicit value to suppress this warning.\n",
      "  \"\"\"Entry point for launching an IPython kernel.\n"
     ]
    }
   ],
   "source": [
    "bb.to_csv('bb.csv')"
   ]
  },
  {
   "cell_type": "code",
   "execution_count": 2,
   "metadata": {},
   "outputs": [],
   "source": [
    "def preprocess(text):\n",
    "    tokenized_list = text.split()\n",
    "    # Get the stop words from nltk\n",
    "    stopword = nltk.corpus.stopwords.words('english')# All English Stopwords\n",
    "    ps = nltk.PorterStemmer()\n",
    "    wn = nltk.WordNetLemmatizer()\n",
    "    \n",
    "    text = [wn.lemmatize(ps.stem(word)) for word in tokenized_list if word not in stopword]# To remove all stopwords\n",
    "    \n",
    "    return \" \".join(text)"
   ]
  },
  {
   "cell_type": "code",
   "execution_count": 4,
   "metadata": {},
   "outputs": [],
   "source": [
    "\n",
    "blob[\"datetime\"] = blob[\"date\"].apply(lambda x: pd.to_datetime(x))\n",
    "blob['time'] = blob['datetime'].apply(lambda x: x.time())\n",
    "blob['date'] =  blob['datetime'].apply(lambda x: x.date())"
   ]
  },
  {
   "cell_type": "code",
   "execution_count": 5,
   "metadata": {},
   "outputs": [],
   "source": [
    "blob[\"body\"] = blob[\"body\"].apply(lambda x: preprocess(re.sub(r\"^.+?(?=Operator)\", \"\", x)\n",
    "                              .lower()\n",
    "                              .replace(\"operator\", \"\")\n",
    "                              .translate(str.maketrans('', '', string.punctuation))))"
   ]
  },
  {
   "cell_type": "markdown",
   "metadata": {},
   "source": [
    "Sentiment"
   ]
  },
  {
   "cell_type": "code",
   "execution_count": 6,
   "metadata": {},
   "outputs": [],
   "source": [
    "def get_polarity(text):\n",
    "    try:\n",
    "        pol = TextBlob(text).sentiment.polarity\n",
    "    except:\n",
    "        pol = 0.0\n",
    "    return pol"
   ]
  },
  {
   "cell_type": "code",
   "execution_count": 7,
   "metadata": {},
   "outputs": [],
   "source": [
    "blob['polarity'] = blob['body'].apply(lambda x: get_polarity(x) )"
   ]
  },
  {
   "cell_type": "markdown",
   "metadata": {},
   "source": [
    "Merging"
   ]
  },
  {
   "cell_type": "code",
   "execution_count": 12,
   "metadata": {},
   "outputs": [],
   "source": [
    "leadlag = pd.read_csv('datadict.csv')"
   ]
  },
  {
   "cell_type": "code",
   "execution_count": 13,
   "metadata": {},
   "outputs": [],
   "source": [
    "final = blob.merge(leadlag, how='left', on='ticker')"
   ]
  },
  {
   "cell_type": "code",
   "execution_count": 21,
   "metadata": {},
   "outputs": [
    {
     "data": {
      "text/html": [
       "<div>\n",
       "<style scoped>\n",
       "    .dataframe tbody tr th:only-of-type {\n",
       "        vertical-align: middle;\n",
       "    }\n",
       "\n",
       "    .dataframe tbody tr th {\n",
       "        vertical-align: top;\n",
       "    }\n",
       "\n",
       "    .dataframe thead th {\n",
       "        text-align: right;\n",
       "    }\n",
       "</style>\n",
       "<table border=\"1\" class=\"dataframe\">\n",
       "  <thead>\n",
       "    <tr style=\"text-align: right;\">\n",
       "      <th></th>\n",
       "      <th>sich</th>\n",
       "      <th>total_assets</th>\n",
       "      <th>Rdiff_lag1</th>\n",
       "      <th>Rdiff_lag2</th>\n",
       "      <th>Rdiff_lag5</th>\n",
       "      <th>Rdiff_lead1</th>\n",
       "      <th>Rdiff_lead2</th>\n",
       "      <th>Rdiff_lead5</th>\n",
       "      <th>polarity</th>\n",
       "    </tr>\n",
       "  </thead>\n",
       "  <tbody>\n",
       "    <tr>\n",
       "      <td>0</td>\n",
       "      <td>3826.0</td>\n",
       "      <td>9044.800000</td>\n",
       "      <td>0.146512</td>\n",
       "      <td>-1.000000</td>\n",
       "      <td>-1.596715</td>\n",
       "      <td>-1.927065</td>\n",
       "      <td>-0.986227</td>\n",
       "      <td>-0.669586</td>\n",
       "      <td>0.153183</td>\n",
       "    </tr>\n",
       "    <tr>\n",
       "      <td>1</td>\n",
       "      <td>3826.0</td>\n",
       "      <td>9044.800000</td>\n",
       "      <td>0.146512</td>\n",
       "      <td>-1.000000</td>\n",
       "      <td>-1.596715</td>\n",
       "      <td>-1.927065</td>\n",
       "      <td>-0.986227</td>\n",
       "      <td>-0.669586</td>\n",
       "      <td>0.123232</td>\n",
       "    </tr>\n",
       "    <tr>\n",
       "      <td>2</td>\n",
       "      <td>4512.0</td>\n",
       "      <td>33447.941180</td>\n",
       "      <td>-0.861627</td>\n",
       "      <td>-1.099721</td>\n",
       "      <td>-0.898527</td>\n",
       "      <td>-0.746586</td>\n",
       "      <td>-0.757239</td>\n",
       "      <td>-0.759973</td>\n",
       "      <td>0.159327</td>\n",
       "    </tr>\n",
       "    <tr>\n",
       "      <td>3</td>\n",
       "      <td>4512.0</td>\n",
       "      <td>33447.941180</td>\n",
       "      <td>-0.861627</td>\n",
       "      <td>-1.099721</td>\n",
       "      <td>-0.898527</td>\n",
       "      <td>-0.746586</td>\n",
       "      <td>-0.757239</td>\n",
       "      <td>-0.759973</td>\n",
       "      <td>0.167988</td>\n",
       "    </tr>\n",
       "    <tr>\n",
       "      <td>4</td>\n",
       "      <td>5531.0</td>\n",
       "      <td>4250.065471</td>\n",
       "      <td>-0.558059</td>\n",
       "      <td>-0.798714</td>\n",
       "      <td>-1.533903</td>\n",
       "      <td>-2.214566</td>\n",
       "      <td>-0.612456</td>\n",
       "      <td>0.624078</td>\n",
       "      <td>0.134625</td>\n",
       "    </tr>\n",
       "  </tbody>\n",
       "</table>\n",
       "</div>"
      ],
      "text/plain": [
       "     sich  total_assets  Rdiff_lag1  Rdiff_lag2  Rdiff_lag5  Rdiff_lead1  \\\n",
       "0  3826.0   9044.800000    0.146512   -1.000000   -1.596715    -1.927065   \n",
       "1  3826.0   9044.800000    0.146512   -1.000000   -1.596715    -1.927065   \n",
       "2  4512.0  33447.941180   -0.861627   -1.099721   -0.898527    -0.746586   \n",
       "3  4512.0  33447.941180   -0.861627   -1.099721   -0.898527    -0.746586   \n",
       "4  5531.0   4250.065471   -0.558059   -0.798714   -1.533903    -2.214566   \n",
       "\n",
       "   Rdiff_lead2  Rdiff_lead5  polarity  \n",
       "0    -0.986227    -0.669586  0.153183  \n",
       "1    -0.986227    -0.669586  0.123232  \n",
       "2    -0.757239    -0.759973  0.159327  \n",
       "3    -0.757239    -0.759973  0.167988  \n",
       "4    -0.612456     0.624078  0.134625  "
      ]
     },
     "execution_count": 21,
     "metadata": {},
     "output_type": "execute_result"
    }
   ],
   "source": [
    "test_feature= final[['sich', 'total_assets', 'Rdiff_lag1', 'Rdiff_lag2',\n",
    "       'Rdiff_lag5', 'Rdiff_lead1', 'Rdiff_lead2', 'Rdiff_lead5', 'polarity']]\n",
    "\n",
    "# test_feature = test_feature[feature_Set1.Rdiff_lag1 != \"#NAME?\"]\n",
    "# test_feature['Rdiff_lag1'] = test_feature['Rdiff_lag1'].apply(lambda x: float(x))\n",
    "# test_feature['Rdiff_lag2'] = test_feature['Rdiff_lag2'].apply(lambda x: float(x))\n",
    "# test_feature['Rdiff_lag5'] = test_feature['Rdiff_lag5'].apply(lambda x: float(x))\n",
    "# test_feature['Rdiff_lead1'] = test_feature['Rdiff_lead1'].apply(lambda x: float(x))\n",
    "# test_feature['Rdiff_lead2'] = test_feature['Rdiff_lead2'].apply(lambda x: float(x))\n",
    "\n",
    "test_feature.head()"
   ]
  },
  {
   "cell_type": "code",
   "execution_count": 22,
   "metadata": {},
   "outputs": [],
   "source": [
    "train_features = pd.read_csv(\"feature_Set1.csv\")"
   ]
  },
  {
   "cell_type": "code",
   "execution_count": 23,
   "metadata": {},
   "outputs": [],
   "source": [
    "X_train, y_train = train_features[['sich', 'total_assets', 'Rdiff_lag1', 'Rdiff_lag2',\n",
    "       'Rdiff_lag5', 'Rdiff_lead1', 'Rdiff_lead2', 'Rdiff_lead5', 'polarity']], train_features['Returns']"
   ]
  },
  {
   "cell_type": "code",
   "execution_count": 24,
   "metadata": {},
   "outputs": [
    {
     "data": {
      "text/plain": [
       "<matplotlib.axes._subplots.AxesSubplot at 0x1f43e40ddc8>"
      ]
     },
     "execution_count": 24,
     "metadata": {},
     "output_type": "execute_result"
    },
    {
     "data": {
      "image/png": "[encoded data removed]",
      "text/plain": [
       "<Figure size 432x288 with 1 Axes>"
      ]
     },
     "metadata": {
      "needs_background": "light"
     },
     "output_type": "display_data"
    }
   ],
   "source": [
    "clf = xgb.XGBRegressor(n_estimators=1000)\n",
    "clf.fit(X_train, y_train,\n",
    "    eval_set=[(X_train, y_train)],\n",
    "    early_stopping_rounds=80, #stop if 50 consequent rounds without decrease of error\n",
    "    verbose=False)\n",
    "xgb.plot_importance(clf, height=0.9)"
   ]
  },
  {
   "cell_type": "code",
   "execution_count": 25,
   "metadata": {},
   "outputs": [
    {
     "data": {
      "text/plain": [
       "array([ 2.37287283e-02,  4.68641222e-02,  2.43073702e-03, -2.76175141e-02,\n",
       "       -2.58129835e-03,  2.37644017e-02, -1.70334578e-02,  2.15135515e-02,\n",
       "       -9.27942991e-03,  3.09431851e-02,  2.38488615e-02,  2.71693170e-02,\n",
       "        4.59016263e-02,  4.52580452e-02,  2.75629461e-02,  4.23249900e-02,\n",
       "        8.52472186e-02, -1.28270507e-01,  8.22484493e-04,  1.79879665e-02,\n",
       "        4.01709378e-02,  2.18145549e-02,  3.85068655e-02, -1.53529644e-03,\n",
       "        8.56190920e-04, -1.97237730e-03,  1.14498734e-02, -1.30546093e-03,\n",
       "        8.42931867e-03, -5.82665205e-03,  2.34960914e-02,  3.98395061e-02,\n",
       "       -4.45407629e-02, -1.41835213e-03,  4.96432781e-02, -3.28153968e-02,\n",
       "        5.69374561e-02,  8.07062387e-02, -4.08750772e-03, -1.18547082e-02,\n",
       "        2.37587094e-02, -3.78412604e-02, -1.32201910e-02,  2.41913199e-02,\n",
       "        2.35023201e-02, -9.30005312e-03, -7.97535777e-02,  2.26719081e-02,\n",
       "        2.98410654e-03,  1.52466297e-02, -1.04075670e-02, -7.03477859e-03,\n",
       "        1.09000802e-02, -2.79057026e-03, -6.07155561e-02,  6.34275377e-02,\n",
       "        6.38136566e-02, -2.84550190e-02,  8.79362226e-03,  2.49999762e-03,\n",
       "        2.17611492e-02,  1.23519897e-02, -4.99147177e-03, -6.97249174e-03,\n",
       "        1.81137621e-02,  5.62030077e-03,  6.02085292e-02, -9.02104974e-02,\n",
       "        1.40016377e-02,  1.77812576e-02, -6.22195005e-03, -2.75242329e-03,\n",
       "        7.93915987e-03,  9.05099511e-03,  1.07370317e-02,  3.37477028e-02,\n",
       "        8.84637237e-03,  1.39349699e-03,  8.94725323e-03,  1.21217966e-02,\n",
       "        9.31107998e-03, -2.88309455e-02, -2.26560235e-02,  4.68095541e-02,\n",
       "       -9.87601280e-03,  5.74554503e-02, -2.15345025e-02, -5.98973036e-03,\n",
       "       -3.19682360e-02, -3.11678648e-02, -4.38892841e-03,  9.72253084e-03,\n",
       "        5.74404001e-03,  6.01029396e-03,  7.26237893e-03, -4.07648087e-03,\n",
       "        1.77030861e-02, -5.98955154e-02, -2.57938504e-02,  1.74545944e-02,\n",
       "        2.33350098e-02, -8.54259729e-03, -2.40327120e-02,  1.66597962e-03,\n",
       "        6.85021281e-03, -3.94945741e-02,  2.84371674e-02,  1.06799006e-02,\n",
       "       -4.65800762e-02,  1.57109201e-02, -3.06262374e-02,  9.06407833e-03,\n",
       "        4.26983833e-03, -6.24459386e-02, -2.50236988e-02,  2.68134177e-02,\n",
       "       -5.01913428e-02, -4.15875912e-02, -2.52260566e-02,  1.99266970e-02,\n",
       "       -1.73893571e-02,  6.59330487e-02,  5.41205406e-02,  1.53028667e-02,\n",
       "       -4.07702923e-02,  2.37982869e-02,  1.20988786e-02, -1.32808089e-02,\n",
       "        7.19112158e-03, -2.64793634e-02, -6.03612065e-02, -3.06931734e-02,\n",
       "        2.73705125e-02,  1.68078542e-02,  2.27569044e-02, -2.11653113e-02,\n",
       "        2.25979090e-03, -3.47705483e-02, -1.32068396e-02,  1.48801208e-02,\n",
       "        2.75850594e-02, -8.09967518e-03, -3.75372171e-03,  2.25874782e-02,\n",
       "        3.92298102e-02,  8.26695561e-02, -1.66183114e-02,  3.07070911e-02,\n",
       "       -4.93955612e-03,  1.19374692e-02, -1.42365694e-03,  4.26051021e-03,\n",
       "       -1.15323067e-03,  2.13964880e-02, -6.80625439e-04,  4.16696072e-04,\n",
       "       -1.35347247e-02,  1.43686235e-02,  1.90740228e-02,  4.69088554e-03,\n",
       "        7.80099630e-03, -5.95945120e-03,  2.78948843e-02, -4.29179072e-02,\n",
       "        5.08445501e-03, -8.17366242e-02,  1.34985447e-02,  1.66990161e-02,\n",
       "        9.61279869e-03, -7.17204809e-03, -3.55470181e-02,  1.96559131e-02,\n",
       "        1.04010105e-05, -1.49769783e-02,  1.57931149e-02,  1.20974779e-02,\n",
       "        1.00651085e-02,  2.58286595e-02,  2.09480524e-03, -7.50643015e-03,\n",
       "       -7.22724199e-03,  1.12156272e-02,  1.69184804e-03,  1.22556061e-01,\n",
       "       -9.00712609e-02, -4.06018496e-02,  2.64048576e-02,  1.41264111e-01,\n",
       "       -4.76204753e-02, -3.76773477e-02, -1.08051896e-02, -6.90460205e-04,\n",
       "       -1.06366873e-02,  4.09683883e-02,  4.09683883e-02, -4.29153442e-05,\n",
       "       -9.31638479e-03,  1.33815706e-02,  1.77640617e-02, -1.31530762e-02,\n",
       "        1.55892074e-02, -1.85218453e-02,  6.73049688e-03,  2.17747688e-03,\n",
       "       -6.03741407e-03,  1.21545792e-03,  2.85558701e-02,  1.60686672e-02,\n",
       "       -2.86722779e-02, -4.08458114e-02,  1.64012611e-02,  2.25436985e-02,\n",
       "       -2.01346874e-02,  7.28676915e-02, -1.47404671e-02, -1.26714706e-02,\n",
       "        1.57865584e-02,  3.12917829e-02, -1.49096847e-02,  1.26205385e-02,\n",
       "        2.66029239e-02, -2.02596188e-04, -5.36487699e-02, -2.22750306e-02,\n",
       "        3.67873907e-03,  2.06357241e-02,  2.16264725e-02,  4.82040048e-02,\n",
       "        1.59007311e-03,  3.06955874e-02,  6.00779057e-03,  8.36521387e-04,\n",
       "        1.55737102e-02,  8.75028968e-03,  3.96271050e-02,  1.33034289e-02,\n",
       "        3.86641026e-02, -9.03463364e-03,  4.22897935e-03, -6.24001026e-03,\n",
       "        5.49586415e-02, -1.20407343e-02, -1.12804770e-02, -2.44365931e-02,\n",
       "        1.48710907e-02,  4.21473086e-02,  4.39012945e-02, -1.60833597e-02,\n",
       "        2.95004249e-03, -7.01820850e-03, -1.91918015e-02,  8.83360207e-02,\n",
       "        9.51680541e-03,  4.98743355e-02,  7.98555017e-02,  1.94908082e-02,\n",
       "       -7.72458315e-03, -6.34905696e-02, -7.67388344e-02,  1.50185823e-03,\n",
       "        3.73806357e-02, -5.99437952e-03, -3.10248137e-02, -5.83010912e-03,\n",
       "        3.77274156e-02, -8.40574503e-03,  1.15670264e-02,  2.07227767e-02,\n",
       "        1.06607378e-02,  3.44466865e-02,  7.53417611e-03, -1.09987855e-02,\n",
       "       -3.68432999e-02,  3.50230038e-02,  8.48591328e-04,  1.52113348e-01,\n",
       "       -8.88180733e-03,  1.16946906e-01, -2.27950215e-02, -7.37917423e-02,\n",
       "       -2.39915848e-02,  1.88440979e-02, -2.30731368e-02, -1.27985477e-02,\n",
       "        6.41820431e-02,  1.27655894e-01, -2.11261511e-02, -2.46065259e-02,\n",
       "        1.31089091e-02, -1.16690397e-02,  1.50589049e-02, -8.07332993e-03,\n",
       "       -1.80546045e-02, -8.22883844e-03, -2.18030810e-02,  5.29290438e-02,\n",
       "        2.35071480e-02, -9.37831402e-03, -9.37598944e-03,  2.10764408e-02,\n",
       "       -2.53855586e-02,  1.22789741e-02,  4.49311733e-03,  4.72494066e-02,\n",
       "       -4.42658663e-02,  4.48894501e-03, -3.61114740e-03, -4.63789701e-03,\n",
       "        1.22088194e-03,  7.27275014e-03, -2.68738270e-02, -9.36812162e-03,\n",
       "        3.49503756e-03,  2.30756402e-02,  1.46572292e-02, -1.10096335e-02,\n",
       "       -1.59531832e-03, -3.73036265e-02,  9.86341536e-02,  7.44462013e-03,\n",
       "       -1.99455023e-02, -7.27343559e-03,  6.89485669e-03, -1.16267800e-02,\n",
       "        5.11949062e-02, -7.42912292e-02, -2.05100179e-02,  2.66669989e-02,\n",
       "        6.72090054e-03, -2.05264091e-02, -9.55405235e-02, -3.52805853e-03,\n",
       "        1.68049634e-02, -1.32941604e-02,  7.41508603e-03, -6.45381212e-03,\n",
       "        7.82012939e-03, -2.33983994e-03,  4.71292138e-02,  1.62836909e-03,\n",
       "       -2.06789970e-02,  7.15146065e-02,  4.98803556e-02,  2.14860737e-02,\n",
       "        7.17139244e-03,  6.10071421e-03, -2.08085775e-03,  2.45603025e-02,\n",
       "        5.44855595e-02,  3.71739268e-02, -1.11681223e-03,  2.24082470e-02,\n",
       "        9.71701741e-03,  9.67513621e-02, -6.56985044e-02, -3.26759219e-02,\n",
       "       -1.00939870e-02,  4.13120389e-02,  3.31345201e-03,  2.92876363e-03,\n",
       "       -6.41965866e-03,  4.96577024e-02, -4.08264995e-02, -6.40238523e-02,\n",
       "        5.18434644e-02, -4.54499125e-02, -7.75521994e-03,  2.94329226e-02,\n",
       "       -1.03667974e-02,  5.81333041e-03,  5.26072383e-02, -7.06377029e-02,\n",
       "       -4.94958758e-02, -6.34807348e-03, -2.41672993e-03,  5.92973828e-02,\n",
       "        1.14393890e-01,  1.00164413e-02, -1.56653523e-02, -4.93764877e-02,\n",
       "        5.37885427e-02,  2.13425159e-02,  2.08669603e-02,  1.77242458e-02,\n",
       "        1.37248933e-02,  2.84734368e-03, -1.89573169e-02, -9.88733768e-03,\n",
       "        6.96546733e-02,  4.58361208e-02,  9.92277265e-03, -2.35092044e-02,\n",
       "        3.46933007e-02,  1.04167759e-02,  2.37698853e-02,  6.41945004e-03,\n",
       "       -1.00790262e-02,  6.38315082e-03,  5.11055291e-02,  2.23868191e-02,\n",
       "       -1.75722241e-02,  2.78063416e-02,  2.18381286e-02,  8.39224458e-03,\n",
       "       -3.35079432e-02,  3.41144204e-03, -1.77179575e-02, -1.19918585e-02,\n",
       "       -2.32333541e-02, -1.08294666e-01,  1.09011531e-02,  7.79876113e-03,\n",
       "       -1.43349171e-03, -1.49142742e-03,  2.03794837e-02, -6.58619404e-03,\n",
       "        1.20864213e-02,  7.76648521e-05, -1.83731318e-03,  4.14183736e-03,\n",
       "       -2.46493220e-02, -4.87345457e-03, -1.10460520e-02,  3.00503373e-02,\n",
       "        9.57885385e-03,  2.48290002e-02,  3.49669456e-02, -2.43070722e-02,\n",
       "       -4.81166840e-02, -3.27483416e-02, -5.03720641e-02, -3.96902561e-02,\n",
       "       -1.77741051e-03,  2.36010253e-01, -2.28646994e-02, -7.42501020e-03,\n",
       "       -9.90909338e-03,  8.70013237e-03,  1.09608769e-02, -5.78016043e-03,\n",
       "       -2.37709284e-02, -2.51585841e-02,  4.69029248e-02,  7.87860155e-03,\n",
       "        2.54304409e-02, -7.42852688e-03, -2.01004744e-03, -1.31458044e-03,\n",
       "       -2.26855278e-04,  4.61160541e-02,  4.30947542e-03,  8.97005200e-03,\n",
       "        2.47788131e-02, -1.94141865e-02, -5.60305715e-02,  2.30846107e-02,\n",
       "        9.17732716e-04,  2.07769275e-02,  8.80838633e-02,  2.53140926e-04,\n",
       "       -1.31984353e-02,  5.28320670e-03,  4.45582569e-02,  1.97428763e-02,\n",
       "        2.48186588e-02,  3.84930670e-02,  3.33628058e-03, -2.17968822e-02,\n",
       "       -4.29058075e-03, -1.18872523e-02, -1.26757622e-02, -4.28599119e-03,\n",
       "       -1.06920004e-02,  3.75728607e-02,  3.97430062e-02, -3.94451618e-03,\n",
       "       -1.46107078e-02,  1.50015950e-03,  4.66844738e-02, -5.51938415e-02,\n",
       "        6.75533414e-02,  3.90362144e-02, -2.76961327e-02,  1.06297433e-02,\n",
       "        1.46334469e-02, -7.21014142e-02,  4.77893353e-02,  3.83000076e-02,\n",
       "        1.72352195e-02,  1.98338926e-02,  3.24483514e-02,  1.93961263e-02,\n",
       "        5.26912212e-02,  7.09756613e-02,  7.44020939e-03,  5.13637960e-02,\n",
       "        6.34928048e-02,  1.15118533e-01,  8.56652856e-03,  7.93740153e-03,\n",
       "       -6.53249025e-03, -6.09320402e-03,  4.95904684e-03, -2.85017490e-03,\n",
       "        2.37754881e-02,  1.12808347e-02, -1.42700672e-02, -1.27083063e-03,\n",
       "        2.04718411e-02,  1.50955915e-02,  1.74967021e-01,  4.58525121e-02,\n",
       "       -2.22632289e-02,  4.96251583e-02, -2.36991048e-02, -9.78124142e-03,\n",
       "        2.63044238e-03, -3.22860479e-03,  1.75029635e-02,  2.53516436e-02,\n",
       "       -2.46837139e-02, -2.36018896e-02,  6.45373762e-02, -3.53759527e-03,\n",
       "        7.67906308e-02, -5.06883860e-03,  3.90180945e-02, -2.62039900e-02,\n",
       "       -2.08101869e-02, -1.26969218e-02, -1.30308270e-02,  4.75387871e-02,\n",
       "        1.86575353e-02,  3.60464454e-02, -2.32174993e-02,  7.35902786e-03,\n",
       "        1.92274153e-02, -2.66588926e-02,  9.50413942e-03, -9.01401043e-04,\n",
       "        6.56074286e-03, -2.53447890e-02,  5.42715192e-02,  2.82539725e-02,\n",
       "       -2.32003927e-02, -1.57301426e-02, -3.62652540e-03, -1.06794834e-02,\n",
       "       -4.78237867e-03, -4.67073917e-03,  5.77130914e-02,  3.76679003e-02,\n",
       "       -4.83107567e-03, -9.96595621e-03, -1.85095668e-02, -7.86375999e-03,\n",
       "        5.45588136e-03,  3.17214727e-02,  2.45193541e-02,  3.75788808e-02,\n",
       "       -2.58340836e-02, -3.57047915e-02, -3.84003520e-02,  1.42902136e-02,\n",
       "        3.34537029e-03, -7.96598196e-03,  1.87121928e-02,  1.17437541e-02,\n",
       "        4.41262126e-03, -3.20565701e-03,  3.24145257e-02, -5.17852902e-02,\n",
       "        3.70804071e-02,  5.57288826e-02,  2.36501992e-02, -4.73395586e-02,\n",
       "       -1.80240273e-02,  9.11708772e-02, -3.86176705e-02, -2.69645452e-02,\n",
       "       -3.59817147e-02,  1.22564912e-01,  6.65521920e-02, -2.91054845e-02,\n",
       "       -1.36828423e-02,  2.99306512e-02, -2.40236521e-02,  2.91033387e-02,\n",
       "        1.24547511e-01,  2.50141919e-02,  7.75492191e-03,  1.82373524e-02,\n",
       "       -1.97747946e-02, -1.83874369e-02,  3.18125188e-02,  4.56690788e-03,\n",
       "       -2.16882229e-02,  2.78759003e-03,  5.37544489e-03, -4.47542071e-02,\n",
       "       -1.35910511e-03,  4.97490764e-02, -1.09577179e-02,  2.65468955e-02,\n",
       "        7.42825866e-03,  2.16617286e-02,  1.39991343e-02,  4.35243547e-02,\n",
       "        1.14181340e-02, -5.87034822e-02,  5.30129671e-03, -3.43573093e-03,\n",
       "        1.01163089e-02,  2.31226981e-02, -3.05372477e-03,  1.85776055e-02,\n",
       "        5.67510724e-03,  4.40499485e-02,  3.27969790e-02, -2.93799043e-02,\n",
       "        1.26105249e-02,  8.27878714e-03, -5.81713915e-02, -1.03018880e-02,\n",
       "        7.93933868e-02, -2.83896923e-03, -3.00778151e-02,  5.92625439e-02,\n",
       "        2.16223896e-02, -4.78941202e-03, -3.15386057e-03,  4.78461385e-03,\n",
       "       -6.30366802e-03, -7.14606047e-03,  2.30338573e-02, -3.75746489e-02,\n",
       "        2.21633315e-02, -2.93231010e-02, -1.11022532e-01, -1.46377087e-02,\n",
       "        1.20726824e-02,  1.01769567e-02, -2.71891356e-02, -5.75661659e-03,\n",
       "        3.43655944e-02,  2.41059959e-02,  6.20782375e-04,  3.14202905e-03,\n",
       "        4.09155488e-02, -8.86893272e-03, -5.18517494e-02, -2.09401846e-02,\n",
       "        1.18799776e-01, -8.40063691e-02], dtype=float32)"
      ]
     },
     "execution_count": 25,
     "metadata": {},
     "output_type": "execute_result"
    }
   ],
   "source": [
    "y_pred = clf.predict(test_feature)\n",
    "y_pred"
   ]
  },
  {
   "cell_type": "code",
   "execution_count": 26,
   "metadata": {},
   "outputs": [
    {
     "data": {
      "text/plain": [
       "(654,)"
      ]
     },
     "execution_count": 26,
     "metadata": {},
     "output_type": "execute_result"
    }
   ],
   "source": [
    "y_pred.shape"
   ]
  },
  {
   "cell_type": "code",
   "execution_count": 27,
   "metadata": {},
   "outputs": [],
   "source": [
    "np.savetxt(\"predictions.csv\", y_pred, delimiter=\",\")"
   ]
  },
  {
   "cell_type": "code",
   "execution_count": null,
   "metadata": {},
   "outputs": [],
   "source": []
  }
 ],
 "metadata": {
  "kernelspec": {
   "display_name": "Python 3",
   "language": "python",
   "name": "python3"
  },
  "language_info": {
   "codemirror_mode": {
    "name": "ipython",
    "version": 3
   },
   "file_extension": ".py",
   "mimetype": "text/x-python",
   "name": "python",
   "nbconvert_exporter": "python",
   "pygments_lexer": "ipython3",
   "version": "3.7.4"
  }
 },
 "nbformat": 4,
 "nbformat_minor": 2
}
